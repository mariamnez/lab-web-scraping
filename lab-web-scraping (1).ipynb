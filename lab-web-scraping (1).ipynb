{
 "cells": [
  {
   "cell_type": "markdown",
   "id": "7e7a1ab8-2599-417d-9a65-25ef07f3a786",
   "metadata": {
    "id": "7e7a1ab8-2599-417d-9a65-25ef07f3a786"
   },
   "source": [
    "# Lab | Web Scraping"
   ]
  },
  {
   "cell_type": "markdown",
   "id": "ce8882fc-4815-4567-92fa-b4816358ba7d",
   "metadata": {
    "id": "ce8882fc-4815-4567-92fa-b4816358ba7d"
   },
   "source": [
    "Welcome to the \"Books to Scrape\" Web Scraping Adventure Lab!\n",
    "\n",
    "**Objective**\n",
    "\n",
    "In this lab, we will embark on a mission to unearth valuable insights from the data available on Books to Scrape, an online platform showcasing a wide variety of books. As data analyst, you have been tasked with scraping a specific subset of book data from Books to Scrape to assist publishing companies in understanding the landscape of highly-rated books across different genres. Your insights will help shape future book marketing strategies and publishing decisions.\n",
    "\n",
    "**Background**\n",
    "\n",
    "In a world where data has become the new currency, businesses are leveraging big data to make informed decisions that drive success and profitability. The publishing industry, much like others, utilizes data analytics to understand market trends, reader preferences, and the performance of books based on factors such as genre, author, and ratings. Books to Scrape serves as a rich source of such data, offering detailed information about a diverse range of books, making it an ideal platform for extracting insights to aid in informed decision-making within the literary world.\n",
    "\n",
    "**Task**\n",
    "\n",
    "Your task is to create a Python script using BeautifulSoup and pandas to scrape Books to Scrape book data, focusing on book ratings and genres. The script should be able to filter books with ratings above a certain threshold and in specific genres. Additionally, the script should structure the scraped data in a tabular format using pandas for further analysis.\n",
    "\n",
    "**Expected Outcome**\n",
    "\n",
    "A function named `scrape_books` that takes two parameters: `min_rating` and `max_price`. The function should scrape book data from the \"Books to Scrape\" website and return a `pandas` DataFrame with the following columns:\n",
    "\n",
    "**Expected Outcome**\n",
    "\n",
    "- A function named `scrape_books` that takes two parameters: `min_rating` and `max_price`.\n",
    "- The function should return a DataFrame with the following columns:\n",
    "  - **UPC**: The Universal Product Code (UPC) of the book.\n",
    "  - **Title**: The title of the book.\n",
    "  - **Price (£)**: The price of the book in pounds.\n",
    "  - **Rating**: The rating of the book (1-5 stars).\n",
    "  - **Genre**: The genre of the book.\n",
    "  - **Availability**: Whether the book is in stock or not.\n",
    "  - **Description**: A brief description or product description of the book (if available).\n",
    "  \n",
    "You will execute this script to scrape data for books with a minimum rating of `4.0 and above` and a maximum price of `£20`. \n",
    "\n",
    "Remember to experiment with different ratings and prices to ensure your code is versatile and can handle various searches effectively!\n",
    "\n",
    "**Resources**\n",
    "\n",
    "- [Beautiful Soup Documentation](https://www.crummy.com/software/BeautifulSoup/bs4/doc/)\n",
    "- [Pandas Documentation](https://pandas.pydata.org/pandas-docs/stable/index.html)\n",
    "- [Books to Scrape](https://books.toscrape.com/)\n"
   ]
  },
  {
   "cell_type": "markdown",
   "id": "3519921d-5890-445b-9a33-934ed8ee378c",
   "metadata": {
    "id": "3519921d-5890-445b-9a33-934ed8ee378c"
   },
   "source": [
    "**Hint**\n",
    "\n",
    "Your first mission is to familiarize yourself with the **Books to Scrape** website. Navigate to [Books to Scrape](http://books.toscrape.com/) and explore the available books to understand their layout and structure. \n",
    "\n",
    "Next, think about how you can set parameters for your data extraction:\n",
    "\n",
    "- **Minimum Rating**: Focus on books with a rating of 4.0 and above.\n",
    "- **Maximum Price**: Filter for books priced up to £20.\n",
    "\n",
    "After reviewing the site, you can construct a plan for scraping relevant data. Pay attention to the details displayed for each book, including the title, price, rating, and availability. This will help you identify the correct HTML elements to target with your scraping script.\n",
    "\n",
    "Make sure to build your scraping URL and logic based on the patterns you observe in the HTML structure of the book listings!"
   ]
  },
  {
   "cell_type": "markdown",
   "id": "25a83a0d-a742-49f6-985e-e27887cbf922",
   "metadata": {
    "id": "25a83a0d-a742-49f6-985e-e27887cbf922"
   },
   "source": [
    "\n",
    "---\n",
    "\n",
    "**Best of luck! Immerse yourself in the world of books, and may the data be with you!**"
   ]
  },
  {
   "cell_type": "markdown",
   "id": "7b75cf0d-9afa-4eec-a9e2-befeac68b2a0",
   "metadata": {
    "id": "7b75cf0d-9afa-4eec-a9e2-befeac68b2a0"
   },
   "source": [
    "**Important Note**:\n",
    "\n",
    "In the fast-changing online world, websites often update and change their structures. When you try this lab, the **Books to Scrape** website might differ from what you expect.\n",
    "\n",
    "If you encounter issues due to these changes, like new rules or obstacles preventing data extraction, don’t worry! Get creative.\n",
    "\n",
    "You can choose another website that interests you and is suitable for scraping data. Options like Wikipedia, The New York Times, or even library databases are great alternatives. The main goal remains the same: extract useful data and enhance your web scraping skills while exploring a source of information you enjoy. This is your opportunity to practice and adapt to different web environments!"
   ]
  },
  {
   "cell_type": "code",
   "execution_count": 1,
   "id": "40359eee-9cd7-4884-bfa4-83344c222305",
   "metadata": {
    "id": "40359eee-9cd7-4884-bfa4-83344c222305"
   },
   "outputs": [],
   "source": [
    "import requests\n",
    "from bs4 import BeautifulSoup\n",
    "import pandas as pd\n",
    "import time\n"
   ]
  },
  {
   "cell_type": "code",
   "execution_count": 8,
   "id": "a058c01f-8eb8-414b-8d74-33d80e47dd15",
   "metadata": {},
   "outputs": [],
   "source": [
    "# Convert rating string to numeric\n",
    "def convert_rating(rating_str):\n",
    "    rating_dict = {'One': 1, 'Two': 2, 'Three': 3, 'Four': 4, 'Five': 5}\n",
    "    return rating_dict.get(rating_str, 0)\n"
   ]
  },
  {
   "cell_type": "code",
   "execution_count": 9,
   "id": "dbb3d6b6-43f0-46a1-93ef-8fcec6ec42e6",
   "metadata": {},
   "outputs": [],
   "source": [
    "def scrape_books(min_rating=4, max_price=20):\n",
    "    base_url = \"http://books.toscrape.com/catalogue/page-{}.html\"\n",
    "    all_books = []\n",
    "\n",
    "    for page in range(1, 51):  # There are 50 pages total\n",
    "        url = base_url.format(page)\n",
    "        response = requests.get(url)\n",
    "        if response.status_code != 200:\n",
    "            break\n",
    "\n",
    "        soup = BeautifulSoup(response.content, \"html.parser\")\n",
    "        books = soup.find_all(\"article\", class_=\"product_pod\")\n",
    "\n",
    "        for book in books:\n",
    "            try:\n",
    "                # Get rating from star-rating class\n",
    "                rating_tag = book.find(\"p\", class_=\"star-rating\")\n",
    "                rating_class = rating_tag.get(\"class\", [])\n",
    "                rating = convert_rating(rating_class[1]) if len(rating_class) > 1 else 0\n",
    "\n",
    "                # Get price\n",
    "                price_str = book.find(\"p\", class_=\"price_color\").text.replace(\"£\", \"\")\n",
    "                price = float(price_str)\n",
    "\n",
    "                if rating >= min_rating and price <= max_price:\n",
    "                    # Book details page\n",
    "                    detail_url = \"http://books.toscrape.com/catalogue/\" + book.h3.a[\"href\"].replace('../../../', '')\n",
    "                    detail_resp = requests.get(detail_url)\n",
    "                    detail_soup = BeautifulSoup(detail_resp.content, \"html.parser\")\n",
    "\n",
    "                    title = book.h3.a['title']\n",
    "                    availability = book.find(\"p\", class_=\"instock availability\").text.strip()\n",
    "\n",
    "                    upc = detail_soup.find(\"th\", string=\"UPC\").find_next_sibling(\"td\").text\n",
    "                    genre = detail_soup.find(\"ul\", class_=\"breadcrumb\").find_all(\"li\")[2].text.strip()\n",
    "\n",
    "                    desc_tag = detail_soup.find(\"meta\", attrs={\"name\": \"description\"})\n",
    "                    description = desc_tag[\"content\"].strip() if desc_tag else \"No description\"\n",
    "\n",
    "                    all_books.append({\n",
    "                        \"UPC\": upc,\n",
    "                        \"Title\": title,\n",
    "                        \"Price (£)\": price,\n",
    "                        \"Rating\": rating,\n",
    "                        \"Genre\": genre,\n",
    "                        \"Availability\": availability,\n",
    "                        \"Description\": description\n",
    "                    })\n",
    "\n",
    "                time.sleep(0.5)  # Be respectful to server\n",
    "\n",
    "            except Exception as e:\n",
    "                print(f\"Skipped a book due to error: {e}\")\n",
    "                continue\n",
    "\n",
    "    return pd.DataFrame(all_books)\n"
   ]
  },
  {
   "cell_type": "code",
   "execution_count": null,
   "id": "7cefc6fe-b5c6-469c-9b7f-531c43337166",
   "metadata": {},
   "outputs": [],
   "source": [
    "books_df = scrape_books(min_rating=4, max_price=20)\n",
    "books_df.head()\n"
   ]
  },
  {
   "cell_type": "code",
   "execution_count": null,
   "id": "04bb14ec-3144-425e-91ed-109ea08473a3",
   "metadata": {},
   "outputs": [],
   "source": [
    "books_df.to_csv(\"filtered_books.csv\", index=False)\n"
   ]
  },
  {
   "cell_type": "code",
   "execution_count": null,
   "id": "753a4ed7-c1e4-492d-bbfb-44bfa7930859",
   "metadata": {},
   "outputs": [],
   "source": []
  }
 ],
 "metadata": {
  "colab": {
   "provenance": []
  },
  "kernelspec": {
   "display_name": "Python [conda env:base] *",
   "language": "python",
   "name": "conda-base-py"
  },
  "language_info": {
   "codemirror_mode": {
    "name": "ipython",
    "version": 3
   },
   "file_extension": ".py",
   "mimetype": "text/x-python",
   "name": "python",
   "nbconvert_exporter": "python",
   "pygments_lexer": "ipython3",
   "version": "3.13.5"
  }
 },
 "nbformat": 4,
 "nbformat_minor": 5
}
